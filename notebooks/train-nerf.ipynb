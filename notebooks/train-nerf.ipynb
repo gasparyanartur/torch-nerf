{
 "cells": [
  {
   "cell_type": "code",
   "execution_count": 1,
   "metadata": {},
   "outputs": [
    {
     "name": "stdout",
     "output_type": "stream",
     "text": [
      "cuda\n"
     ]
    }
   ],
   "source": [
    "import tqdm\n",
    "import pathlib as pl\n",
    "import numpy as np\n",
    "import matplotlib.pyplot as plt\n",
    "\n",
    "from src.data import FrameDataset, RayDataset, get_rays\n",
    "\n",
    "import torch\n",
    "from torch import nn\n",
    "import torchvision\n",
    "\n",
    "DEVICE = torch.device(\"cuda\" if torch.cuda.is_available() else \"cpu\")\n",
    "print(DEVICE)"
   ]
  },
  {
   "cell_type": "code",
   "execution_count": 2,
   "metadata": {},
   "outputs": [],
   "source": [
    "def get_path_number(path: pl.Path):\n",
    "    return int(path.stem.split(\"-\")[-1])\n",
    "\n",
    "\n",
    "def get_sample(dataset, idx=0):\n",
    "    H, W = dataset.shape\n",
    "    focal = dataset.focal\n",
    "    img, _, c2w = dataset[idx]\n",
    "    r_o, r_d = get_rays(H, W, focal, c2w)\n",
    "    img = img[:3].swapaxes(0, 2).swapaxes(0, 1)\n",
    "    return r_o, r_d, img\n",
    "\n",
    "\n",
    "def save_tensor_as_img(x: torch.Tensor, path: pl.Path):\n",
    "    x = x.detach().cpu().permute(2, 0, 1)\n",
    "    im = torchvision.transforms.ToPILImage(\"RGB\")(x)\n",
    "    im.save(path)\n",
    "\n",
    "\n",
    "@torch.jit.script\n",
    "def strat_sampling(\n",
    "    N: int, t_near: float, t_far: float, device: torch.device\n",
    ") -> torch.Tensor:\n",
    "    draws = torch.arange(N, device=device) + torch.rand(N, device=device)\n",
    "    samples = t_near + draws * (t_far - t_near) / N\n",
    "    return samples\n",
    "\n",
    "\n",
    "@torch.jit.script\n",
    "def positional_encoding(p: torch.Tensor, L: int, device: torch.device) -> torch.Tensor:\n",
    "    assert len(p.shape) == 3\n",
    "    assert L % 2 == 0\n",
    "\n",
    "    B, NB, D = p.shape\n",
    "\n",
    "    pe = torch.zeros(B, NB, 2 * D * L + D, device=device)\n",
    "    pe[..., :3] = p\n",
    "    for i in range(0, L):\n",
    "        pe[..., 3 + 6*i   : 3 + 6*i+3] = torch.sin(2**i * p)\n",
    "        pe[..., 3 + 6*i+3 : 3 + 6*i+6] = torch.cos(2**i * p)\n",
    "    return pe\n",
    "\n",
    "\n",
    "@torch.jit.script\n",
    "def positional_encoding_vec(\n",
    "    p: torch.Tensor, L: int, device: torch.device\n",
    ") -> torch.Tensor:\n",
    "    # TODO: Fix code\n",
    "    assert len(p.shape) == 3\n",
    "    B, NB, D = p.shape\n",
    "\n",
    "    # Z denotes transformed input p\n",
    "    # Z_ij becomes 2^i * p_i * p_j for each i in 0..L-1 and each component j in 1..3\n",
    "    # Thus dimension is <B, NB, D, L>\n",
    "    z = (2 ** torch.arange(L, device=device).repeat(D, 1)) * (torch.pi * p[..., None])\n",
    "\n",
    "    # X denotes the encoded value for each transformed input\n",
    "    x1 = torch.sin(z)\n",
    "    x2 = torch.cos(z)\n",
    "\n",
    "    # We want ordering sin(x) cos(x) sin(y) cos(y) sin(z) cos(z) repeated for each element in 1..L\n",
    "    # First we stack encoding into a matrix, then we flatten the matrix to put each row side by side.\n",
    "    x = torch.stack((x1, x2), dim=4)  # <B, NB, D, L, 2>\n",
    "    x = x.swapaxes(2, 3)  # <B, NB, L, D, 2>\n",
    "    x = x.reshape(B, NB, 2 * D * L)  # Finally, flatten to shape <B, NB, 2*D*L>\n",
    "\n",
    "    return x\n",
    "\n",
    "\n",
    "@torch.jit.script\n",
    "def get_t(\n",
    "    n_rays: int, n_bins: int, t_near: float, t_far: float, device: torch.device\n",
    ") -> torch.Tensor:\n",
    "    t = strat_sampling(n_rays * n_bins, t_near, t_far, device)\n",
    "    t = t.reshape(n_rays, n_bins)  # B, NB\n",
    "    return t\n",
    "\n",
    "\n",
    "@torch.jit.script\n",
    "def batchify_rays(batch: tuple[torch.Tensor, torch.Tensor, torch.Tensor]):\n",
    "    # r_o: <S, S, D>\n",
    "    # r_d: <S, S, D>\n",
    "    # C_r: <4, S, S>\n",
    "    # img_size: S\n",
    "    # n_rays: N = S*S\n",
    "    # N = S * S\n",
    "    # chunk_size: C = (S/NC)^2\n",
    "\n",
    "    r_o, r_d, C_r = batch\n",
    "    S, _, D = r_o.shape\n",
    "    r_o = r_o.reshape(S * S, D)\n",
    "    r_d = r_d.reshape(S * S, D)\n",
    "\n",
    "    # We only care about RGB, which is the first three dimensions\n",
    "    # We also reshape it to <N, 3> to make it an RGB value for each ray\n",
    "    C_r = C_r[:3].reshape(3, -1).T  # <N, D>\n",
    "\n",
    "    # r_o, r_d: <N, D>\n",
    "    # C_r: <N, 3>\n",
    "    return r_o, r_d, C_r\n",
    "\n",
    "\n",
    "@torch.jit.script\n",
    "def preprocess_rays(\n",
    "    r_o: torch.Tensor,\n",
    "    r_d: torch.Tensor,\n",
    "    n_bins: int,\n",
    "    t_near: float,\n",
    "    t_far: float,\n",
    "    L1: int,\n",
    "    L2: int,\n",
    "    device: torch.device,\n",
    "):\n",
    "    # r_o: <N, D>\n",
    "    # r_o: <N, D>\n",
    "\n",
    "    N, D = r_o.shape\n",
    "\n",
    "    t = get_t(N, n_bins, t_near, t_far, device=device)  # <C, NB>\n",
    "    r_d = nn.functional.normalize(r_d, dim=-1)  # <N, D>\n",
    "\n",
    "    # Reshape the dimensions for broadcasting during x = r_o + t * r_d\n",
    "    r_o = r_o.reshape(N, 1, D)\n",
    "\n",
    "    # Repeat this for broadcasting when multiplying\n",
    "    r_d = r_d.reshape(N, 1, D).repeat(1, n_bins, 1)\n",
    "\n",
    "    # We will do elementwise multiplication with each dimension, so we add a dimension at the end for broadcasting\n",
    "    tmul = t[..., None]\n",
    "    x = r_o + tmul * r_d  # <N, NB, D>\n",
    "\n",
    "    # <N, NB, 2*D*L>\n",
    "    ex = positional_encoding(x, L1, device=device)\n",
    "    ed = positional_encoding(r_d, L2, device=device)\n",
    "\n",
    "    ex = ex.reshape(N, n_bins, 6 * L1 + 3)  # <C, NB, 2*D*L+D>\n",
    "    ed = ed.reshape(N, n_bins, 6 * L2 + 3)  # <C, NB, 2*D*L+D>\n",
    "\n",
    "    return ex, ed, t\n",
    "\n",
    "\n",
    "@torch.jit.script\n",
    "def expected_color(\n",
    "    c: torch.Tensor, sigma: torch.Tensor, t: torch.Tensor\n",
    ") -> torch.Tensor:\n",
    "    # N: number of rays in batch\n",
    "    # NB: number of bins\n",
    "    # c: <N, NB, 3>\n",
    "    # sigma: <N, NB>\n",
    "    # t: <N, NB>\n",
    "\n",
    "    assert len(c.shape) == 3\n",
    "    assert len(sigma.shape) == 2\n",
    "    assert len(t.shape) == 2\n",
    "    assert c.max() <= 1\n",
    "\n",
    "    # Multiply up to T-1. For effeciency purposes, we keep the last dimension, but it gets overwritten later.\n",
    "    dt = torch.roll(t, -1, dims=-1) - t\n",
    "    sig_dt = dt * sigma\n",
    "\n",
    "    # Compute cumuluative probability,\n",
    "    # Since equation (3) sums T_i from i=1 to i-1, we set the first value to (exp 0 = 1) and ignore the last value.\n",
    "    # We don't remove it from the tensor yet, but it will be overwritten later.\n",
    "    T = torch.exp(-torch.cumsum(sig_dt, dim=-1))\n",
    "    T = T.roll(1, dims=-1)\n",
    "    T[..., 0] = 1\n",
    "\n",
    "    # If the point has not collided with anything up to the end, it should definitely collide at the end\n",
    "    alpha = 1 - torch.exp(-sig_dt)\n",
    "    alpha[..., -1] = 1\n",
    "\n",
    "    w = T * alpha\n",
    "\n",
    "    c_hat = torch.einsum(\"nb,nbc->nc\", w, c)\n",
    "    return c_hat\n",
    "\n",
    "\n",
    "def render_rays(\n",
    "    model: nn.Module,\n",
    "    r_o_full: torch.Tensor,\n",
    "    r_d_full: torch.Tensor,\n",
    "    device: torch.device,\n",
    "    chunk_size: int,\n",
    "    n_bins: int,\n",
    "    t_near: float,\n",
    "    t_far: float,\n",
    "    L1: int,\n",
    "    L2: int,\n",
    ") -> torch.Tensor:\n",
    "    model.eval()\n",
    "    with torch.no_grad():\n",
    "        H, W, _ = r_o_full.shape\n",
    "        n_rays = H * W\n",
    "\n",
    "        assert n_rays % chunk_size == 0\n",
    "\n",
    "        r_o_full = r_o_full.reshape(n_rays, 3).to(device)\n",
    "        r_d_full = r_d_full.reshape(n_rays, 3).to(device)\n",
    "        c_hat_full = torch.zeros((n_rays, 3), device=device, dtype=torch.float32)\n",
    "\n",
    "        for i in tqdm.tqdm(range(0, n_rays, chunk_size)):\n",
    "            r_o = r_o_full[i : i + chunk_size].to(device)\n",
    "            r_d = r_d_full[i : i + chunk_size].to(device)\n",
    "\n",
    "            ex, ed, t = preprocess_rays(\n",
    "                r_o, r_d, n_bins, t_near, t_far, L1, L2, device=device\n",
    "            )\n",
    "\n",
    "            c, sigma = model(ex, ed)\n",
    "            c_hat = expected_color(c, sigma, t)\n",
    "            c_hat_full[i : i + chunk_size] = c_hat\n",
    "\n",
    "        c_hat_full = c_hat_full.reshape((H, W, 3))\n",
    "        return c_hat_full\n",
    "\n",
    "\n",
    "def train_nerf_batch(\n",
    "    batch: tuple[torch.Tensor, torch.Tensor, torch.Tensor],\n",
    "    model: nn.Module,\n",
    "    criterion: nn.Module,\n",
    "    optim: torch.optim.Optimizer,\n",
    "    chunk_size: int,\n",
    "    n_bins: int,\n",
    "    t_near: float,\n",
    "    t_far: float,\n",
    "    L1: int,\n",
    "    L2: int,\n",
    "    device: torch.device,\n",
    ") -> dict[str, any]:\n",
    "    img_size = batch[0].size(0)\n",
    "    n_rays = img_size * img_size\n",
    "    assert n_rays % chunk_size == 0\n",
    "\n",
    "    r_o_full, r_d_full, C_r_full = batchify_rays(batch)\n",
    "\n",
    "    model.train()\n",
    "    running_loss = 0\n",
    "\n",
    "    for i in range(0, n_rays, chunk_size):\n",
    "        optim.zero_grad()\n",
    "\n",
    "        r_o = r_o_full[i : i + chunk_size].to(device)\n",
    "        r_d = r_d_full[i : i + chunk_size].to(device)\n",
    "        C_r = C_r_full[i : i + chunk_size].to(device)\n",
    "\n",
    "        ex, ed, t = preprocess_rays(\n",
    "            r_o, r_d, n_bins, t_near, t_far, L1, L2, device=device\n",
    "        )\n",
    "\n",
    "        c, sigma = model(ex, ed)\n",
    "        c_hat = expected_color(c, sigma, t)\n",
    "\n",
    "        batch_loss = criterion(c_hat, C_r)\n",
    "        batch_loss.backward()\n",
    "\n",
    "        optim.step()\n",
    "\n",
    "        running_loss += batch_loss.item()\n",
    "\n",
    "    train_loss = running_loss / (n_rays / chunk_size)\n",
    "    return train_loss\n",
    "\n",
    "\n",
    "def eval_nerf_batch(\n",
    "    batch: tuple[torch.Tensor, torch.Tensor, torch.Tensor],\n",
    "    model: nn.Module,\n",
    "    criterion: nn.Module,\n",
    "    chunk_size: int,\n",
    "    n_bins: int,\n",
    "    t_near: float,\n",
    "    t_far: float,\n",
    "    L1: int,\n",
    "    L2: int,\n",
    "    device: torch.device,\n",
    "):\n",
    "    img_size = batch[0].size(0)\n",
    "    n_rays = img_size * img_size\n",
    "    assert n_rays % chunk_size == 0\n",
    "\n",
    "    model.eval()\n",
    "    with torch.no_grad():\n",
    "        img_size = batch[0].size(0)\n",
    "        n_rays = img_size * img_size\n",
    "        assert n_rays % chunk_size == 0\n",
    "\n",
    "        r_o_full, r_d_full, C_r_full = batchify_rays(batch)\n",
    "        running_loss = 0\n",
    "\n",
    "        for i in range(0, n_rays, chunk_size):\n",
    "            r_o = r_o_full[i : i + chunk_size].to(device)\n",
    "            r_d = r_d_full[i : i + chunk_size].to(device)\n",
    "            C_r = C_r_full[i : i + chunk_size].to(device)\n",
    "\n",
    "            ex, ed, t = preprocess_rays(\n",
    "                r_o, r_d, n_bins, t_near, t_far, L1, L2, device=device\n",
    "            )\n",
    "\n",
    "            c, sigma = model(ex, ed)\n",
    "            c_hat = expected_color(c, sigma, t)\n",
    "\n",
    "            batch_loss = criterion(c_hat, C_r)\n",
    "            running_loss += batch_loss.item()\n",
    "\n",
    "    val_loss = running_loss / (n_rays / chunk_size)\n",
    "    return val_loss\n",
    "\n",
    "\n",
    "def train_nerf(\n",
    "    model: nn.Module,\n",
    "    optim: torch.optim.Optimizer,\n",
    "    criterion: nn.Module,\n",
    "    train_dataset,\n",
    "    val_dataset,\n",
    "    n_epochs: int,\n",
    "    chunk_size: int,\n",
    "    n_bins: int,\n",
    "    t_near: float,\n",
    "    t_far: float,\n",
    "    L1: int,\n",
    "    L2: int,\n",
    "    base_save_path: pl.Path,\n",
    "    device: torch.device,\n",
    "    load_checkpoint_path: pl.Path = None,\n",
    "    shuffle_train: bool = True,\n",
    "    shuffle_val: bool = True,\n",
    "    limit_train_size: int = None,\n",
    "    limit_val_size: int = None,\n",
    "    render_freq: int = None,\n",
    "    ex_sample: tuple[torch.Tensor, torch.Tensor, torch.Tensor] = None,\n",
    "):\n",
    "    if not base_save_path.exists():\n",
    "        raise ValueError\n",
    "\n",
    "    if load_checkpoint_path:\n",
    "        if not load_checkpoint_path.exists():\n",
    "            raise ValueError\n",
    "\n",
    "        checkpoint = torch.load(str(load_checkpoint_path))\n",
    "        model.load_state_dict(checkpoint[\"model_state_dict\"])\n",
    "        optim.load_state_dict(checkpoint[\"optim_state_dict\"])\n",
    "        epoch = checkpoint[\"epoch\"] + 1\n",
    "\n",
    "    else:\n",
    "        checkpoint = {\n",
    "            \"epoch\": None,\n",
    "            \"train_loss\": [],\n",
    "            \"val_loss\": [],\n",
    "            \"model_state_dict\": None,\n",
    "            \"optim_state_dict\": None,\n",
    "        }\n",
    "        epoch = 0\n",
    "\n",
    "    model_save_path = base_save_path / model.name\n",
    "    model_save_path.mkdir(exist_ok=True)\n",
    "\n",
    "    n_saved_versions = len(list(model_save_path.glob(\"version-*\")))\n",
    "    if n_saved_versions > 0:\n",
    "        n_saved_versions = (\n",
    "            get_path_number(\n",
    "                sorted(\n",
    "                    model_save_path.glob(\"version-*\"),\n",
    "                    key=get_path_number,\n",
    "                )[-1]\n",
    "            )\n",
    "            + 1\n",
    "        )\n",
    "\n",
    "    version_path = model_save_path / f\"version-{n_saved_versions}\"\n",
    "    version_path.mkdir(parents=True, exist_ok=False)\n",
    "\n",
    "    if (render_freq is not None) and ex_sample and epoch == 0:\n",
    "        ex_ro, ex_rd, ex_ref = ex_sample\n",
    "        ref_img_path = version_path / \"render_ref.png\"\n",
    "        save_tensor_as_img(ex_ref, ref_img_path)\n",
    "\n",
    "    while epoch < n_epochs:\n",
    "        print(f\"epoch: {epoch}/{n_epochs}\")\n",
    "        train_loss_epoch = 0\n",
    "        n_batches_train = (\n",
    "            len(train_dataset) if (limit_train_size is None) else limit_train_size\n",
    "        )\n",
    "        batch_idxs_train = (\n",
    "            torch.randperm(n_batches_train)\n",
    "            if shuffle_train\n",
    "            else torch.arange(n_batches_train)\n",
    "        )\n",
    "        for i_batch_train in tqdm.tqdm(batch_idxs_train):\n",
    "            batch = train_dataset[i_batch_train]\n",
    "            train_loss_batch = train_nerf_batch(\n",
    "                batch,\n",
    "                model,\n",
    "                criterion,\n",
    "                optim,\n",
    "                chunk_size,\n",
    "                n_bins,\n",
    "                t_near,\n",
    "                t_far,\n",
    "                L1,\n",
    "                L2,\n",
    "                device=device,\n",
    "            )\n",
    "            train_loss_epoch += train_loss_batch\n",
    "\n",
    "        val_loss_epoch = 0\n",
    "        n_batches_val = len(val_dataset) if (limit_val_size is None) else limit_val_size\n",
    "        batch_idxs_val = (\n",
    "            torch.randperm(n_batches_val)\n",
    "            if shuffle_val\n",
    "            else torch.arange(n_batches_val)\n",
    "        )\n",
    "        for i_batch_val in tqdm.tqdm(batch_idxs_val):\n",
    "            batch = val_dataset[i_batch_val]\n",
    "            val_loss_batch = eval_nerf_batch(\n",
    "                batch,\n",
    "                model,\n",
    "                criterion,\n",
    "                chunk_size,\n",
    "                n_bins,\n",
    "                t_near,\n",
    "                t_far,\n",
    "                L1,\n",
    "                L2,\n",
    "                device=device,\n",
    "            )\n",
    "            val_loss_epoch += val_loss_batch\n",
    "\n",
    "        train_loss = train_loss_epoch / n_batches_train\n",
    "        val_loss = val_loss_epoch / n_batches_val\n",
    "\n",
    "        checkpoint_path = version_path / f\"checkpoint-{epoch}\"\n",
    "        print(f\"\\ttrain loss: {train_loss:.5e}\\n\\tval loss: {val_loss:.5e}\\n\")\n",
    "\n",
    "        checkpoint[\"epoch\"] = epoch\n",
    "        checkpoint[\"train_loss\"].append(train_loss)\n",
    "        checkpoint[\"val_loss\"].append(val_loss)\n",
    "        checkpoint[\"model_state_dict\"] = model.state_dict()\n",
    "        checkpoint[\"optim_state_dict\"] = optim.state_dict()\n",
    "        torch.save(checkpoint, checkpoint_path)\n",
    "\n",
    "        if (render_freq is not None) and ex_sample and (epoch % render_freq == 0):\n",
    "            ex_ro, ex_rd, ex_ref = ex_sample\n",
    "            ex_render = render_rays(\n",
    "                model,\n",
    "                ex_ro,\n",
    "                ex_rd,\n",
    "                device=device,\n",
    "                chunk_size=chunk_size,\n",
    "                n_bins=n_bins,\n",
    "                t_near=t_near,\n",
    "                t_far=t_far,\n",
    "                L1=L1,\n",
    "                L2=L2,\n",
    "            )\n",
    "            render_path = version_path / f\"render_{epoch}.png\"\n",
    "            save_tensor_as_img(ex_render, render_path)\n",
    "\n",
    "        epoch += 1\n",
    "\n",
    "    return checkpoint"
   ]
  },
  {
   "cell_type": "code",
   "execution_count": null,
   "metadata": {},
   "outputs": [],
   "source": []
  },
  {
   "cell_type": "code",
   "execution_count": 3,
   "metadata": {},
   "outputs": [
    {
     "name": "stdout",
     "output_type": "stream",
     "text": [
      "torch.Size([100, 100, 3])\n",
      "torch.Size([3, 100, 100])\n",
      "Image shape: torch.Size([100, 100, 3])\n"
     ]
    },
    {
     "data": {
      "text/plain": [
       "<matplotlib.image.AxesImage at 0x24ac9358f90>"
      ]
     },
     "execution_count": 3,
     "metadata": {},
     "output_type": "execute_result"
    },
    {
     "data": {
      "image/png": "[encoded data removed]",
      "text/plain": [
       "<Figure size 640x480 with 1 Axes>"
      ]
     },
     "metadata": {},
     "output_type": "display_data"
    }
   ],
   "source": [
    "\n",
    "TRAIN_MODEL = True\n",
    "\n",
    "chunk_size = 2500\n",
    "n_epochs = 50\n",
    "n_bins = 64\n",
    "t_near = 2.0\n",
    "t_far = 6.0\n",
    "n_hidden = 256\n",
    "learning_rate = 5e-4\n",
    "downscale_factor = 8\n",
    "L1 = 10\n",
    "L2 = 4\n",
    "\n",
    "\n",
    "base_save_path = pl.Path('./models/')\n",
    "\n",
    "# Set these when you want to test. \n",
    "# If None, the full dataset will be used on each epoch.\n",
    "limit_train_size = None\n",
    "limit_val_size = 30\n",
    "\n",
    "\n",
    "data_source_name = \"NeRF_Data\"\n",
    "dataset_name = \"nerf_synthetic\"\n",
    "scene_name = \"lego\"\n",
    "\n",
    "root_data_dir = pl.Path('./data/')\n",
    "data_path = root_data_dir / data_source_name / dataset_name / scene_name\n",
    "\n",
    "train_frame_dataset = FrameDataset(data_path, \"train\", downsample_factor=downscale_factor)\n",
    "val_frame_dataset = FrameDataset(data_path, \"val\", downsample_factor=downscale_factor)\n",
    "test_frame_dataset = FrameDataset(data_path, \"test\", downsample_factor=downscale_factor)\n",
    "\n",
    "train_ray_dataset = RayDataset(train_frame_dataset)\n",
    "val_ray_dataset = RayDataset(val_frame_dataset)\n",
    "test_ray_dataset = RayDataset(test_frame_dataset)\n",
    "\n",
    "ref_idx = 18\n",
    "ref_ro, ref_rd, ref_img = get_sample(test_frame_dataset, ref_idx)\n",
    "\n",
    "\n",
    "print(ref_img.shape)\n",
    "print(ref_img.permute(2, 0, 1).shape)\n",
    "im = torchvision.transforms.ToPILImage(\"RGB\")(ref_img.permute(2, 0, 1))\n",
    "im.save(\"tmp.png\")\n",
    "\n",
    "\n",
    "\n",
    "print(f\"Image shape: {ref_img.shape}\")\n",
    "plt.imshow(ref_img)\n"
   ]
  },
  {
   "cell_type": "code",
   "execution_count": 5,
   "metadata": {},
   "outputs": [
    {
     "name": "stdout",
     "output_type": "stream",
     "text": [
      "epoch: 0/50\n"
     ]
    },
    {
     "name": "stderr",
     "output_type": "stream",
     "text": [
      "100%|██████████| 100/100 [01:22<00:00,  1.22it/s]\n",
      "100%|██████████| 30/30 [00:08<00:00,  3.41it/s]\n"
     ]
    },
    {
     "name": "stdout",
     "output_type": "stream",
     "text": [
      "\ttrain loss: 6.55397e-02\n",
      "\tval loss: 5.83910e-02\n",
      "\n"
     ]
    },
    {
     "name": "stderr",
     "output_type": "stream",
     "text": [
      "100%|██████████| 4/4 [00:00<00:00, 15.06it/s]\n"
     ]
    },
    {
     "name": "stdout",
     "output_type": "stream",
     "text": [
      "epoch: 1/50\n"
     ]
    },
    {
     "name": "stderr",
     "output_type": "stream",
     "text": [
      "100%|██████████| 100/100 [01:17<00:00,  1.29it/s]\n",
      "100%|██████████| 30/30 [00:08<00:00,  3.48it/s]\n"
     ]
    },
    {
     "name": "stdout",
     "output_type": "stream",
     "text": [
      "\ttrain loss: 6.03079e-02\n",
      "\tval loss: 5.83095e-02\n",
      "\n"
     ]
    },
    {
     "name": "stderr",
     "output_type": "stream",
     "text": [
      "100%|██████████| 4/4 [00:00<00:00, 14.68it/s]\n"
     ]
    },
    {
     "name": "stdout",
     "output_type": "stream",
     "text": [
      "epoch: 2/50\n"
     ]
    },
    {
     "name": "stderr",
     "output_type": "stream",
     "text": [
      "100%|██████████| 100/100 [01:17<00:00,  1.29it/s]\n",
      "100%|██████████| 30/30 [00:08<00:00,  3.48it/s]\n"
     ]
    },
    {
     "name": "stdout",
     "output_type": "stream",
     "text": [
      "\ttrain loss: 6.00092e-02\n",
      "\tval loss: 5.81922e-02\n",
      "\n"
     ]
    },
    {
     "name": "stderr",
     "output_type": "stream",
     "text": [
      "100%|██████████| 4/4 [00:00<00:00, 14.71it/s]\n"
     ]
    },
    {
     "name": "stdout",
     "output_type": "stream",
     "text": [
      "epoch: 3/50\n"
     ]
    },
    {
     "name": "stderr",
     "output_type": "stream",
     "text": [
      "100%|██████████| 100/100 [01:17<00:00,  1.29it/s]\n",
      "100%|██████████| 30/30 [00:08<00:00,  3.44it/s]\n"
     ]
    },
    {
     "name": "stdout",
     "output_type": "stream",
     "text": [
      "\ttrain loss: 5.96803e-02\n",
      "\tval loss: 5.80415e-02\n",
      "\n"
     ]
    },
    {
     "name": "stderr",
     "output_type": "stream",
     "text": [
      "100%|██████████| 4/4 [00:00<00:00, 14.68it/s]\n"
     ]
    },
    {
     "name": "stdout",
     "output_type": "stream",
     "text": [
      "epoch: 4/50\n"
     ]
    },
    {
     "name": "stderr",
     "output_type": "stream",
     "text": [
      "100%|██████████| 100/100 [01:17<00:00,  1.29it/s]\n",
      "100%|██████████| 30/30 [00:08<00:00,  3.52it/s]\n"
     ]
    },
    {
     "name": "stdout",
     "output_type": "stream",
     "text": [
      "\ttrain loss: 5.94488e-02\n",
      "\tval loss: 5.81995e-02\n",
      "\n"
     ]
    },
    {
     "name": "stderr",
     "output_type": "stream",
     "text": [
      "100%|██████████| 4/4 [00:00<00:00, 15.01it/s]\n"
     ]
    },
    {
     "name": "stdout",
     "output_type": "stream",
     "text": [
      "epoch: 5/50\n"
     ]
    },
    {
     "name": "stderr",
     "output_type": "stream",
     "text": [
      "100%|██████████| 100/100 [01:17<00:00,  1.28it/s]\n",
      "100%|██████████| 30/30 [00:08<00:00,  3.51it/s]\n"
     ]
    },
    {
     "name": "stdout",
     "output_type": "stream",
     "text": [
      "\ttrain loss: 5.91283e-02\n",
      "\tval loss: 5.83822e-02\n",
      "\n"
     ]
    },
    {
     "name": "stderr",
     "output_type": "stream",
     "text": [
      "100%|██████████| 4/4 [00:00<00:00, 14.93it/s]\n"
     ]
    },
    {
     "name": "stdout",
     "output_type": "stream",
     "text": [
      "epoch: 6/50\n"
     ]
    },
    {
     "name": "stderr",
     "output_type": "stream",
     "text": [
      "100%|██████████| 100/100 [01:17<00:00,  1.29it/s]\n",
      "100%|██████████| 30/30 [00:08<00:00,  3.50it/s]\n"
     ]
    },
    {
     "name": "stdout",
     "output_type": "stream",
     "text": [
      "\ttrain loss: 5.88926e-02\n",
      "\tval loss: 5.85535e-02\n",
      "\n"
     ]
    },
    {
     "name": "stderr",
     "output_type": "stream",
     "text": [
      "100%|██████████| 4/4 [00:00<00:00, 14.57it/s]\n"
     ]
    },
    {
     "name": "stdout",
     "output_type": "stream",
     "text": [
      "epoch: 7/50\n"
     ]
    },
    {
     "name": "stderr",
     "output_type": "stream",
     "text": [
      "100%|██████████| 100/100 [01:17<00:00,  1.29it/s]\n",
      "100%|██████████| 30/30 [00:08<00:00,  3.45it/s]\n"
     ]
    },
    {
     "name": "stdout",
     "output_type": "stream",
     "text": [
      "\ttrain loss: 5.85838e-02\n",
      "\tval loss: 5.80735e-02\n",
      "\n"
     ]
    },
    {
     "name": "stderr",
     "output_type": "stream",
     "text": [
      "100%|██████████| 4/4 [00:00<00:00, 14.49it/s]\n"
     ]
    },
    {
     "name": "stdout",
     "output_type": "stream",
     "text": [
      "epoch: 8/50\n"
     ]
    },
    {
     "name": "stderr",
     "output_type": "stream",
     "text": [
      "100%|██████████| 100/100 [01:15<00:00,  1.32it/s]\n",
      "100%|██████████| 30/30 [00:08<00:00,  3.54it/s]\n"
     ]
    },
    {
     "name": "stdout",
     "output_type": "stream",
     "text": [
      "\ttrain loss: 5.81990e-02\n",
      "\tval loss: 5.81296e-02\n",
      "\n"
     ]
    },
    {
     "name": "stderr",
     "output_type": "stream",
     "text": [
      "100%|██████████| 4/4 [00:00<00:00, 15.07it/s]\n"
     ]
    },
    {
     "name": "stdout",
     "output_type": "stream",
     "text": [
      "epoch: 9/50\n"
     ]
    },
    {
     "name": "stderr",
     "output_type": "stream",
     "text": [
      "100%|██████████| 100/100 [01:15<00:00,  1.33it/s]\n",
      "100%|██████████| 30/30 [00:08<00:00,  3.53it/s]\n"
     ]
    },
    {
     "name": "stdout",
     "output_type": "stream",
     "text": [
      "\ttrain loss: 5.76751e-02\n",
      "\tval loss: 5.95328e-02\n",
      "\n"
     ]
    },
    {
     "name": "stderr",
     "output_type": "stream",
     "text": [
      "100%|██████████| 4/4 [00:00<00:00, 14.84it/s]\n"
     ]
    },
    {
     "name": "stdout",
     "output_type": "stream",
     "text": [
      "epoch: 10/50\n"
     ]
    },
    {
     "name": "stderr",
     "output_type": "stream",
     "text": [
      "100%|██████████| 100/100 [01:15<00:00,  1.33it/s]\n",
      "100%|██████████| 30/30 [00:08<00:00,  3.53it/s]\n"
     ]
    },
    {
     "name": "stdout",
     "output_type": "stream",
     "text": [
      "\ttrain loss: 5.72822e-02\n",
      "\tval loss: 5.95968e-02\n",
      "\n"
     ]
    },
    {
     "name": "stderr",
     "output_type": "stream",
     "text": [
      "100%|██████████| 4/4 [00:00<00:00, 14.98it/s]\n"
     ]
    },
    {
     "name": "stdout",
     "output_type": "stream",
     "text": [
      "epoch: 11/50\n"
     ]
    },
    {
     "name": "stderr",
     "output_type": "stream",
     "text": [
      "100%|██████████| 100/100 [01:15<00:00,  1.33it/s]\n",
      "100%|██████████| 30/30 [00:08<00:00,  3.53it/s]\n"
     ]
    },
    {
     "name": "stdout",
     "output_type": "stream",
     "text": [
      "\ttrain loss: 5.64716e-02\n",
      "\tval loss: 5.95955e-02\n",
      "\n"
     ]
    },
    {
     "name": "stderr",
     "output_type": "stream",
     "text": [
      "100%|██████████| 4/4 [00:00<00:00, 14.95it/s]\n"
     ]
    },
    {
     "name": "stdout",
     "output_type": "stream",
     "text": [
      "epoch: 12/50\n"
     ]
    },
    {
     "name": "stderr",
     "output_type": "stream",
     "text": [
      "100%|██████████| 100/100 [01:14<00:00,  1.33it/s]\n",
      "100%|██████████| 30/30 [00:08<00:00,  3.54it/s]\n"
     ]
    },
    {
     "name": "stdout",
     "output_type": "stream",
     "text": [
      "\ttrain loss: 5.56081e-02\n",
      "\tval loss: 6.08438e-02\n",
      "\n"
     ]
    },
    {
     "name": "stderr",
     "output_type": "stream",
     "text": [
      "100%|██████████| 4/4 [00:00<00:00, 14.87it/s]\n"
     ]
    },
    {
     "name": "stdout",
     "output_type": "stream",
     "text": [
      "epoch: 13/50\n"
     ]
    },
    {
     "name": "stderr",
     "output_type": "stream",
     "text": [
      "100%|██████████| 100/100 [01:15<00:00,  1.33it/s]\n",
      "100%|██████████| 30/30 [00:08<00:00,  3.54it/s]\n"
     ]
    },
    {
     "name": "stdout",
     "output_type": "stream",
     "text": [
      "\ttrain loss: 5.47570e-02\n",
      "\tval loss: 5.99984e-02\n",
      "\n"
     ]
    },
    {
     "name": "stderr",
     "output_type": "stream",
     "text": [
      "100%|██████████| 4/4 [00:00<00:00, 14.95it/s]\n"
     ]
    },
    {
     "name": "stdout",
     "output_type": "stream",
     "text": [
      "epoch: 14/50\n"
     ]
    },
    {
     "name": "stderr",
     "output_type": "stream",
     "text": [
      "100%|██████████| 100/100 [01:14<00:00,  1.33it/s]\n",
      "100%|██████████| 30/30 [00:08<00:00,  3.54it/s]\n"
     ]
    },
    {
     "name": "stdout",
     "output_type": "stream",
     "text": [
      "\ttrain loss: 5.37144e-02\n",
      "\tval loss: 6.01826e-02\n",
      "\n"
     ]
    },
    {
     "name": "stderr",
     "output_type": "stream",
     "text": [
      "100%|██████████| 4/4 [00:00<00:00, 14.90it/s]\n"
     ]
    },
    {
     "name": "stdout",
     "output_type": "stream",
     "text": [
      "epoch: 15/50\n"
     ]
    },
    {
     "name": "stderr",
     "output_type": "stream",
     "text": [
      "100%|██████████| 100/100 [01:15<00:00,  1.33it/s]\n",
      "100%|██████████| 30/30 [00:08<00:00,  3.54it/s]\n"
     ]
    },
    {
     "name": "stdout",
     "output_type": "stream",
     "text": [
      "\ttrain loss: 5.28380e-02\n",
      "\tval loss: 6.12928e-02\n",
      "\n"
     ]
    },
    {
     "name": "stderr",
     "output_type": "stream",
     "text": [
      "100%|██████████| 4/4 [00:00<00:00, 15.07it/s]\n"
     ]
    },
    {
     "name": "stdout",
     "output_type": "stream",
     "text": [
      "epoch: 16/50\n"
     ]
    },
    {
     "name": "stderr",
     "output_type": "stream",
     "text": [
      " 89%|████████▉ | 89/100 [01:07<00:08,  1.32it/s]\n"
     ]
    },
    {
     "ename": "KeyboardInterrupt",
     "evalue": "",
     "output_type": "error",
     "traceback": [
      "\u001b[1;31m---------------------------------------------------------------------------\u001b[0m",
      "\u001b[1;31mKeyboardInterrupt\u001b[0m                         Traceback (most recent call last)",
      "\u001b[1;32mc:\\Users\\gaspa\\dev\\projects\\torch-nerf\\notebooks\\train-nerf.ipynb Cell 5\u001b[0m line \u001b[0;36m1\n\u001b[0;32m     <a href='vscode-notebook-cell:/c%3A/Users/gaspa/dev/projects/torch-nerf/notebooks/train-nerf.ipynb#X13sZmlsZQ%3D%3D?line=9'>10</a>\u001b[0m load_checkpoint_path \u001b[39m=\u001b[39m \u001b[39mNone\u001b[39;00m\n\u001b[0;32m     <a href='vscode-notebook-cell:/c%3A/Users/gaspa/dev/projects/torch-nerf/notebooks/train-nerf.ipynb#X13sZmlsZQ%3D%3D?line=12'>13</a>\u001b[0m \u001b[39mif\u001b[39;00m TRAIN_MODEL:\n\u001b[1;32m---> <a href='vscode-notebook-cell:/c%3A/Users/gaspa/dev/projects/torch-nerf/notebooks/train-nerf.ipynb#X13sZmlsZQ%3D%3D?line=13'>14</a>\u001b[0m     train_nerf(\n\u001b[0;32m     <a href='vscode-notebook-cell:/c%3A/Users/gaspa/dev/projects/torch-nerf/notebooks/train-nerf.ipynb#X13sZmlsZQ%3D%3D?line=14'>15</a>\u001b[0m         model\u001b[39m=\u001b[39;49mmodel,\n\u001b[0;32m     <a href='vscode-notebook-cell:/c%3A/Users/gaspa/dev/projects/torch-nerf/notebooks/train-nerf.ipynb#X13sZmlsZQ%3D%3D?line=15'>16</a>\u001b[0m         optim\u001b[39m=\u001b[39;49moptim,\n\u001b[0;32m     <a href='vscode-notebook-cell:/c%3A/Users/gaspa/dev/projects/torch-nerf/notebooks/train-nerf.ipynb#X13sZmlsZQ%3D%3D?line=16'>17</a>\u001b[0m         criterion\u001b[39m=\u001b[39;49mcriterion,\n\u001b[0;32m     <a href='vscode-notebook-cell:/c%3A/Users/gaspa/dev/projects/torch-nerf/notebooks/train-nerf.ipynb#X13sZmlsZQ%3D%3D?line=17'>18</a>\u001b[0m         train_dataset\u001b[39m=\u001b[39;49mtrain_ray_dataset,\n\u001b[0;32m     <a href='vscode-notebook-cell:/c%3A/Users/gaspa/dev/projects/torch-nerf/notebooks/train-nerf.ipynb#X13sZmlsZQ%3D%3D?line=18'>19</a>\u001b[0m         val_dataset\u001b[39m=\u001b[39;49mval_ray_dataset,\n\u001b[0;32m     <a href='vscode-notebook-cell:/c%3A/Users/gaspa/dev/projects/torch-nerf/notebooks/train-nerf.ipynb#X13sZmlsZQ%3D%3D?line=19'>20</a>\u001b[0m         n_epochs\u001b[39m=\u001b[39;49mn_epochs,\n\u001b[0;32m     <a href='vscode-notebook-cell:/c%3A/Users/gaspa/dev/projects/torch-nerf/notebooks/train-nerf.ipynb#X13sZmlsZQ%3D%3D?line=20'>21</a>\u001b[0m         chunk_size\u001b[39m=\u001b[39;49mchunk_size,\n\u001b[0;32m     <a href='vscode-notebook-cell:/c%3A/Users/gaspa/dev/projects/torch-nerf/notebooks/train-nerf.ipynb#X13sZmlsZQ%3D%3D?line=21'>22</a>\u001b[0m         n_bins\u001b[39m=\u001b[39;49mn_bins,\n\u001b[0;32m     <a href='vscode-notebook-cell:/c%3A/Users/gaspa/dev/projects/torch-nerf/notebooks/train-nerf.ipynb#X13sZmlsZQ%3D%3D?line=22'>23</a>\u001b[0m         t_near\u001b[39m=\u001b[39;49mt_near,\n\u001b[0;32m     <a href='vscode-notebook-cell:/c%3A/Users/gaspa/dev/projects/torch-nerf/notebooks/train-nerf.ipynb#X13sZmlsZQ%3D%3D?line=23'>24</a>\u001b[0m         t_far\u001b[39m=\u001b[39;49mt_far,\n\u001b[0;32m     <a href='vscode-notebook-cell:/c%3A/Users/gaspa/dev/projects/torch-nerf/notebooks/train-nerf.ipynb#X13sZmlsZQ%3D%3D?line=24'>25</a>\u001b[0m         L1\u001b[39m=\u001b[39;49mL1,\n\u001b[0;32m     <a href='vscode-notebook-cell:/c%3A/Users/gaspa/dev/projects/torch-nerf/notebooks/train-nerf.ipynb#X13sZmlsZQ%3D%3D?line=25'>26</a>\u001b[0m         L2\u001b[39m=\u001b[39;49mL2,\n\u001b[0;32m     <a href='vscode-notebook-cell:/c%3A/Users/gaspa/dev/projects/torch-nerf/notebooks/train-nerf.ipynb#X13sZmlsZQ%3D%3D?line=26'>27</a>\u001b[0m         base_save_path\u001b[39m=\u001b[39;49mbase_save_path,\n\u001b[0;32m     <a href='vscode-notebook-cell:/c%3A/Users/gaspa/dev/projects/torch-nerf/notebooks/train-nerf.ipynb#X13sZmlsZQ%3D%3D?line=27'>28</a>\u001b[0m         device\u001b[39m=\u001b[39;49mDEVICE,\n\u001b[0;32m     <a href='vscode-notebook-cell:/c%3A/Users/gaspa/dev/projects/torch-nerf/notebooks/train-nerf.ipynb#X13sZmlsZQ%3D%3D?line=28'>29</a>\u001b[0m         load_checkpoint_path\u001b[39m=\u001b[39;49mload_checkpoint_path,\n\u001b[0;32m     <a href='vscode-notebook-cell:/c%3A/Users/gaspa/dev/projects/torch-nerf/notebooks/train-nerf.ipynb#X13sZmlsZQ%3D%3D?line=29'>30</a>\u001b[0m         limit_train_size\u001b[39m=\u001b[39;49mlimit_train_size,\n\u001b[0;32m     <a href='vscode-notebook-cell:/c%3A/Users/gaspa/dev/projects/torch-nerf/notebooks/train-nerf.ipynb#X13sZmlsZQ%3D%3D?line=30'>31</a>\u001b[0m         limit_val_size\u001b[39m=\u001b[39;49mlimit_val_size,\n\u001b[0;32m     <a href='vscode-notebook-cell:/c%3A/Users/gaspa/dev/projects/torch-nerf/notebooks/train-nerf.ipynb#X13sZmlsZQ%3D%3D?line=31'>32</a>\u001b[0m         render_freq\u001b[39m=\u001b[39;49m\u001b[39m1\u001b[39;49m,\n\u001b[0;32m     <a href='vscode-notebook-cell:/c%3A/Users/gaspa/dev/projects/torch-nerf/notebooks/train-nerf.ipynb#X13sZmlsZQ%3D%3D?line=32'>33</a>\u001b[0m         ex_sample\u001b[39m=\u001b[39;49m(ref_ro, ref_rd, ref_img),\n\u001b[0;32m     <a href='vscode-notebook-cell:/c%3A/Users/gaspa/dev/projects/torch-nerf/notebooks/train-nerf.ipynb#X13sZmlsZQ%3D%3D?line=33'>34</a>\u001b[0m     )\n",
      "\u001b[1;32mc:\\Users\\gaspa\\dev\\projects\\torch-nerf\\notebooks\\train-nerf.ipynb Cell 5\u001b[0m line \u001b[0;36m3\n\u001b[0;32m    <a href='vscode-notebook-cell:/c%3A/Users/gaspa/dev/projects/torch-nerf/notebooks/train-nerf.ipynb#X13sZmlsZQ%3D%3D?line=386'>387</a>\u001b[0m \u001b[39mfor\u001b[39;00m i_batch_train \u001b[39min\u001b[39;00m tqdm\u001b[39m.\u001b[39mtqdm(batch_idxs_train):\n\u001b[0;32m    <a href='vscode-notebook-cell:/c%3A/Users/gaspa/dev/projects/torch-nerf/notebooks/train-nerf.ipynb#X13sZmlsZQ%3D%3D?line=387'>388</a>\u001b[0m     batch \u001b[39m=\u001b[39m train_dataset[i_batch_train]\n\u001b[1;32m--> <a href='vscode-notebook-cell:/c%3A/Users/gaspa/dev/projects/torch-nerf/notebooks/train-nerf.ipynb#X13sZmlsZQ%3D%3D?line=388'>389</a>\u001b[0m     train_loss_batch \u001b[39m=\u001b[39m train_nerf_batch(\n\u001b[0;32m    <a href='vscode-notebook-cell:/c%3A/Users/gaspa/dev/projects/torch-nerf/notebooks/train-nerf.ipynb#X13sZmlsZQ%3D%3D?line=389'>390</a>\u001b[0m         batch,\n\u001b[0;32m    <a href='vscode-notebook-cell:/c%3A/Users/gaspa/dev/projects/torch-nerf/notebooks/train-nerf.ipynb#X13sZmlsZQ%3D%3D?line=390'>391</a>\u001b[0m         model,\n\u001b[0;32m    <a href='vscode-notebook-cell:/c%3A/Users/gaspa/dev/projects/torch-nerf/notebooks/train-nerf.ipynb#X13sZmlsZQ%3D%3D?line=391'>392</a>\u001b[0m         criterion,\n\u001b[0;32m    <a href='vscode-notebook-cell:/c%3A/Users/gaspa/dev/projects/torch-nerf/notebooks/train-nerf.ipynb#X13sZmlsZQ%3D%3D?line=392'>393</a>\u001b[0m         optim,\n\u001b[0;32m    <a href='vscode-notebook-cell:/c%3A/Users/gaspa/dev/projects/torch-nerf/notebooks/train-nerf.ipynb#X13sZmlsZQ%3D%3D?line=393'>394</a>\u001b[0m         chunk_size,\n\u001b[0;32m    <a href='vscode-notebook-cell:/c%3A/Users/gaspa/dev/projects/torch-nerf/notebooks/train-nerf.ipynb#X13sZmlsZQ%3D%3D?line=394'>395</a>\u001b[0m         n_bins,\n\u001b[0;32m    <a href='vscode-notebook-cell:/c%3A/Users/gaspa/dev/projects/torch-nerf/notebooks/train-nerf.ipynb#X13sZmlsZQ%3D%3D?line=395'>396</a>\u001b[0m         t_near,\n\u001b[0;32m    <a href='vscode-notebook-cell:/c%3A/Users/gaspa/dev/projects/torch-nerf/notebooks/train-nerf.ipynb#X13sZmlsZQ%3D%3D?line=396'>397</a>\u001b[0m         t_far,\n\u001b[0;32m    <a href='vscode-notebook-cell:/c%3A/Users/gaspa/dev/projects/torch-nerf/notebooks/train-nerf.ipynb#X13sZmlsZQ%3D%3D?line=397'>398</a>\u001b[0m         L1,\n\u001b[0;32m    <a href='vscode-notebook-cell:/c%3A/Users/gaspa/dev/projects/torch-nerf/notebooks/train-nerf.ipynb#X13sZmlsZQ%3D%3D?line=398'>399</a>\u001b[0m         L2,\n\u001b[0;32m    <a href='vscode-notebook-cell:/c%3A/Users/gaspa/dev/projects/torch-nerf/notebooks/train-nerf.ipynb#X13sZmlsZQ%3D%3D?line=399'>400</a>\u001b[0m         device\u001b[39m=\u001b[39;49mdevice,\n\u001b[0;32m    <a href='vscode-notebook-cell:/c%3A/Users/gaspa/dev/projects/torch-nerf/notebooks/train-nerf.ipynb#X13sZmlsZQ%3D%3D?line=400'>401</a>\u001b[0m     )\n\u001b[0;32m    <a href='vscode-notebook-cell:/c%3A/Users/gaspa/dev/projects/torch-nerf/notebooks/train-nerf.ipynb#X13sZmlsZQ%3D%3D?line=401'>402</a>\u001b[0m     train_loss_epoch \u001b[39m+\u001b[39m\u001b[39m=\u001b[39m train_loss_batch\n\u001b[0;32m    <a href='vscode-notebook-cell:/c%3A/Users/gaspa/dev/projects/torch-nerf/notebooks/train-nerf.ipynb#X13sZmlsZQ%3D%3D?line=403'>404</a>\u001b[0m val_loss_epoch \u001b[39m=\u001b[39m \u001b[39m0\u001b[39m\n",
      "\u001b[1;32mc:\\Users\\gaspa\\dev\\projects\\torch-nerf\\notebooks\\train-nerf.ipynb Cell 5\u001b[0m line \u001b[0;36m2\n\u001b[0;32m    <a href='vscode-notebook-cell:/c%3A/Users/gaspa/dev/projects/torch-nerf/notebooks/train-nerf.ipynb#X13sZmlsZQ%3D%3D?line=245'>246</a>\u001b[0m ex, ed, t \u001b[39m=\u001b[39m preprocess_rays(\n\u001b[0;32m    <a href='vscode-notebook-cell:/c%3A/Users/gaspa/dev/projects/torch-nerf/notebooks/train-nerf.ipynb#X13sZmlsZQ%3D%3D?line=246'>247</a>\u001b[0m     r_o, r_d, n_bins, t_near, t_far, L1, L2, device\u001b[39m=\u001b[39mdevice\n\u001b[0;32m    <a href='vscode-notebook-cell:/c%3A/Users/gaspa/dev/projects/torch-nerf/notebooks/train-nerf.ipynb#X13sZmlsZQ%3D%3D?line=247'>248</a>\u001b[0m )\n\u001b[0;32m    <a href='vscode-notebook-cell:/c%3A/Users/gaspa/dev/projects/torch-nerf/notebooks/train-nerf.ipynb#X13sZmlsZQ%3D%3D?line=249'>250</a>\u001b[0m c, sigma \u001b[39m=\u001b[39m model(ex, ed)\n\u001b[1;32m--> <a href='vscode-notebook-cell:/c%3A/Users/gaspa/dev/projects/torch-nerf/notebooks/train-nerf.ipynb#X13sZmlsZQ%3D%3D?line=250'>251</a>\u001b[0m c_hat \u001b[39m=\u001b[39m expected_color(c, sigma, t)\n\u001b[0;32m    <a href='vscode-notebook-cell:/c%3A/Users/gaspa/dev/projects/torch-nerf/notebooks/train-nerf.ipynb#X13sZmlsZQ%3D%3D?line=252'>253</a>\u001b[0m batch_loss \u001b[39m=\u001b[39m criterion(c_hat, C_r)\n\u001b[0;32m    <a href='vscode-notebook-cell:/c%3A/Users/gaspa/dev/projects/torch-nerf/notebooks/train-nerf.ipynb#X13sZmlsZQ%3D%3D?line=253'>254</a>\u001b[0m batch_loss\u001b[39m.\u001b[39mbackward()\n",
      "\u001b[1;31mKeyboardInterrupt\u001b[0m: "
     ]
    }
   ],
   "source": [
    "from src.model import LargeNetNoView, MediumNet, TestNet\n",
    "\n",
    "#model = TestNet(\"testnet\", L1, L2, 3, n_hidden).to(DEVICE)\n",
    "#model = MediumNet(\"mediumnet\", L1, L2, 3, n_hidden).to(DEVICE)\n",
    "model = LargeNetNoView(\"largenet-nw\", L1, L2, 3, n_hidden).to(DEVICE)\n",
    "model = torch.jit.script(model)\n",
    "optim = torch.optim.Adam(model.parameters(), lr=learning_rate)\n",
    "criterion = nn.MSELoss()\n",
    "#load_checkpoint_path = pl.Path('./models/largenet-nw/version-1/checkpoint-20')\n",
    "load_checkpoint_path = None\n",
    "\n",
    "\n",
    "if TRAIN_MODEL:\n",
    "    train_nerf(\n",
    "        model=model,\n",
    "        optim=optim,\n",
    "        criterion=criterion,\n",
    "        train_dataset=train_ray_dataset,\n",
    "        val_dataset=val_ray_dataset,\n",
    "        n_epochs=n_epochs,\n",
    "        chunk_size=chunk_size,\n",
    "        n_bins=n_bins,\n",
    "        t_near=t_near,\n",
    "        t_far=t_far,\n",
    "        L1=L1,\n",
    "        L2=L2,\n",
    "        base_save_path=base_save_path,\n",
    "        device=DEVICE,\n",
    "        load_checkpoint_path=load_checkpoint_path,\n",
    "        limit_train_size=limit_train_size,\n",
    "        limit_val_size=limit_val_size,\n",
    "        render_freq=1,\n",
    "        ex_sample=(ref_ro, ref_rd, ref_img),\n",
    "    )"
   ]
  },
  {
   "cell_type": "code",
   "execution_count": null,
   "metadata": {},
   "outputs": [
    {
     "data": {
      "text/plain": [
       "<matplotlib.legend.Legend at 0x20eb6a3f3d0>"
      ]
     },
     "execution_count": 5,
     "metadata": {},
     "output_type": "execute_result"
    },
    {
     "data": {
      "image/png": "[encoded data removed]",
      "text/plain": [
       "<Figure size 640x480 with 1 Axes>"
      ]
     },
     "metadata": {},
     "output_type": "display_data"
    }
   ],
   "source": [
    "cp = torch.load(pl.Path('models/mediumnet/version-7/checkpoint-14'))\n",
    "train_loss = cp[\"train_loss\"]\n",
    "val_loss = cp[\"val_loss\"]\n",
    "n_epochs = cp[\"epoch\"] + 1\n",
    "\n",
    "plt.plot(np.arange(n_epochs), train_loss, label=\"train loss\")\n",
    "plt.plot(np.arange(n_epochs), val_loss, label=\"val loss\")\n",
    "plt.xlabel(\"epoch\")\n",
    "plt.ylabel(\"loss\")\n",
    "plt.legend()"
   ]
  },
  {
   "cell_type": "code",
   "execution_count": null,
   "metadata": {},
   "outputs": [
    {
     "name": "stdout",
     "output_type": "stream",
     "text": [
      "tensor([[1.0000, 0.8521, 0.7558]])\n",
      "tensor([[ 0.1479,  0.1131, -1.7183]])\n"
     ]
    },
    {
     "data": {
      "text/plain": [
       "(tensor([0.1479, 0.0964, 0.7558]),\n",
       " tensor([[0.1479, 0.0964, 0.2800]]),\n",
       " tensor([[0.1479, 0.0964, 0.7558]]))"
      ]
     },
     "execution_count": 35,
     "metadata": {},
     "output_type": "execute_result"
    }
   ],
   "source": [
    "import numpy as np\n",
    "\n",
    "def expected_color_2(\n",
    "    c: torch.Tensor, sigma: torch.Tensor, t: torch.Tensor\n",
    ") -> torch.Tensor:\n",
    "    # N: number of rays in batch\n",
    "    # NB: number of bins\n",
    "    # c: <N, NB, 3>\n",
    "    # sigma: <N, NB>\n",
    "    # t: <N, NB>\n",
    "\n",
    "    assert len(c.shape) == 3\n",
    "    assert len(sigma.shape) == 2\n",
    "    assert len(t.shape) == 2\n",
    "    assert c.max() <= 1\n",
    "\n",
    "    # Multiply up to T-1. For effeciency purposes, we keep the last dimension, but it gets overwritten later.\n",
    "    dt = torch.roll(t, -1, dims=-1) - t\n",
    "    sig_dt = dt * sigma\n",
    "\n",
    "    # Compute cumuluative probability,\n",
    "    # Since equation (3) sums T_i from i=1 to i-1, we set the first value to (exp 0 = 1) and ignore the last value.\n",
    "    # We don't remove it from the tensor yet, but it will be overwritten later.\n",
    "    T = torch.exp(-torch.cumsum(sig_dt, dim=-1))\n",
    "    T = T.roll(1, dims=-1)\n",
    "    T[..., 0] = 1\n",
    "\n",
    "    # If the point has not collided with anything up to the end, it should definitely collide at the end\n",
    "    alpha = (1 - torch.exp(-sig_dt)) \n",
    "    alpha[..., -1] = 1\n",
    "\n",
    "    w = T * alpha\n",
    "\n",
    "    c_hat = torch.einsum(\"nb,nbc->nc\", w, c)\n",
    "    return c_hat\n",
    "\n",
    "t = torch.Tensor([[0.1, 0.9, 1.1]])\n",
    "c = torch.Tensor([[[1, 0, 0], [0, 1, 0], [0, 0, 1]]])\n",
    "sigma = torch.Tensor([[0.2, 0.6, 1]])\n",
    "\n",
    "\n",
    "# delta_1 = 0.8 - 0.3 = 0.5\n",
    "# delta_2 = 1.1 - 0.8 = 0.3\n",
    "# sidel_1 = 0.2*0.5 = 0.10\n",
    "# sidel_2 = 0.6*0.3 = 0.18\n",
    "# T_1 = 1\n",
    "# T_2 = e^-(0.10) = 0.9048\n",
    "# T_3 = e^-(0.10+0.18) = 0.7558\n",
    "# hili_1 = (1-e^(-sidel_1)) = 1-e^(-0.10) = 0.0952\n",
    "# hili_2 = (1-e^(-sidel_2)) = 1-e^(-0.18) = 0.1647\n",
    "# hili_3 = 1\n",
    "\n",
    "exp_c = 0\n",
    "for i in range(3):\n",
    "    if i == 2:\n",
    "        T_i = 0\n",
    "        for j in range(i):\n",
    "            delta = t[0, j+1]-t[0, j]\n",
    "            T_i += sigma[0, j]*delta\n",
    "        T_i = np.exp(-T_i)\n",
    "        exp_c += T_i * c[0, i]\n",
    "        continue\n",
    "\n",
    "    if i == 0:\n",
    "        T_i = 1\n",
    "\n",
    "    else:\n",
    "        T_i = 0\n",
    "        for j in range(i):\n",
    "            delta = t[0, j+1]-t[0, j] \n",
    "            T_i += sigma[0, j] *delta \n",
    "        T_i = np.exp(-T_i)\n",
    "\n",
    "    delta = t[0, i+1]-t[0, i]\n",
    "    exp_c += T_i * (1 - np.exp(-sigma[0, i]*delta)) * c[0, i]\n",
    "        \n",
    "\n",
    "exp_c, expected_color(c, sigma, t), expected_color_2(c, sigma, t)\n"
   ]
  },
  {
   "cell_type": "code",
   "execution_count": null,
   "metadata": {},
   "outputs": [
    {
     "name": "stdout",
     "output_type": "stream",
     "text": [
      "correct tensor([[[-2.0000,  1.0000,  4.0000, -0.9093,  0.8415, -0.7568, -0.4161,\n",
      "           0.5403, -0.6536,  0.7568,  0.9093,  0.9894, -0.6536, -0.4161,\n",
      "          -0.1455, -0.9894, -0.7568, -0.2879, -0.1455, -0.6536, -0.9577,\n",
      "           0.2879,  0.9894,  0.5514, -0.9577, -0.1455,  0.8342, -0.5514,\n",
      "          -0.2879,  0.9200,  0.8342, -0.9577,  0.3919, -0.9200,  0.5514,\n",
      "           0.7210,  0.3919,  0.8342, -0.6929],\n",
      "         [-3.0000, -2.0000,  1.0000, -0.1411, -0.9093,  0.8415, -0.9900,\n",
      "          -0.4161,  0.5403,  0.2794,  0.7568,  0.9093,  0.9602, -0.6536,\n",
      "          -0.4161,  0.5366, -0.9894, -0.7568,  0.8439, -0.1455, -0.6536,\n",
      "           0.9056,  0.2879,  0.9894,  0.4242, -0.9577, -0.1455,  0.7683,\n",
      "          -0.5514, -0.2879, -0.6401,  0.8342, -0.9577, -0.9836, -0.9200,\n",
      "           0.5514, -0.1804,  0.3919,  0.8342]]])\n",
      "old tensor([[[-2.0000,  1.0000,  4.0000, -0.9093,  0.8415, -0.7568, -0.4161,\n",
      "           0.5403, -0.6536,  0.7568,  0.9093,  0.9894, -0.6536, -0.4161,\n",
      "          -0.1455, -0.9894, -0.7568, -0.2879, -0.1455, -0.6536, -0.9577,\n",
      "           0.2879,  0.9894,  0.5514, -0.9577, -0.1455,  0.8342, -0.5514,\n",
      "          -0.2879,  0.9200,  0.8342, -0.9577,  0.3919, -0.9200,  0.5514,\n",
      "           0.7210,  0.3919,  0.8342, -0.6929],\n",
      "         [-3.0000, -2.0000,  1.0000, -0.1411, -0.9093,  0.8415, -0.9900,\n",
      "          -0.4161,  0.5403,  0.2794,  0.7568,  0.9093,  0.9602, -0.6536,\n",
      "          -0.4161,  0.5366, -0.9894, -0.7568,  0.8439, -0.1455, -0.6536,\n",
      "           0.9056,  0.2879,  0.9894,  0.4242, -0.9577, -0.1455,  0.7683,\n",
      "          -0.5514, -0.2879, -0.6401,  0.8342, -0.9577, -0.9836, -0.9200,\n",
      "           0.5514, -0.1804,  0.3919,  0.8342]]])\n"
     ]
    }
   ],
   "source": [
    "def positional_encoding_2(p: torch.Tensor, L: int) -> torch.Tensor:\n",
    "    assert len(p.shape) == 3\n",
    "    B, NB, D = p.shape\n",
    "\n",
    "    print(D)\n",
    "    print(p.shape)\n",
    "    z = (2**torch.arange(L-1).repeat(D, 1)) * p[..., None]\n",
    "    print(z, z.shape)\n",
    "    x1 = torch.sin(z)\n",
    "    x2 = torch.cos(z)\n",
    "\n",
    "    x = torch.stack((x1, x2), dim=-1)\n",
    "    print(x.shape)\n",
    "    #z4 = torch.stack((p, z3), dim=-1)\n",
    "\n",
    "    #z4 = z3.flatten(2)\n",
    "\n",
    "    print(x)\n",
    "\n",
    "    # Z denotes transformed input p\n",
    "    # Z_ij becomes 2^i * p_i * p_j for each i in 0..L-1 and each component j in 1..3\n",
    "    # Thus dimension is <B, NB, D, L>\n",
    "#    z = (2 ** torch.arange(L).repeat(1, 1, D, 1)) * (torch.pi * p[..., None])\n",
    "    #z = (2 ** torch.arange(L).repeat(1, 1, D, 1)) * p[..., None] \n",
    "    #print(\"z\", z)\n",
    "\n",
    "    # X denotes the encoded value for each transformed input\n",
    "    #x1 = torch.sin(z)\n",
    "    #x2 = torch.cos(z)\n",
    "\n",
    "    # We want ordering sin(x) cos(x) sin(y) cos(y) sin(z) cos(z) repeated for each element in 1..L\n",
    "    # First we stack encoding into a matrix, then we flatten the matrix to put each row side by side.\n",
    "    #x = torch.stack((x1, x2), dim=-1)  # <B, NB, D, L, 2>\n",
    "    #x = x.swapaxes(3, 4)\n",
    "    #x = x.swapaxes(2, 3).swapaxes(3, 4)  # <B, NB, L, D, 2>\n",
    "    #x = x.reshape(B, NB, 2 * D * L)  # Finally, flatten to shape <B, NB, 2*D*L>\n",
    "\n",
    "    return x\n",
    "\n",
    "\n",
    "a = torch.Tensor([[[-2, 1, 4], [-3, -2, 1]]]).long()\n",
    "a\n",
    "\n",
    "\n",
    "def positional_encoding(p: torch.Tensor, L: int, device: torch.device) -> torch.Tensor:\n",
    "    assert len(p.shape) == 3\n",
    "    assert L % 2 == 0\n",
    "\n",
    "    B, NB, D = p.shape\n",
    "\n",
    "    pe = torch.zeros(B, NB, 2 * D * L + D)\n",
    "    pe[..., :3] = p\n",
    "    for i in range(0, L):\n",
    "        pe[..., 3 + 6*i   : 3 + 6*i+3] = torch.sin(2**i * p)\n",
    "        pe[..., 3 + 6*i+3 : 3 + 6*i+6] = torch.cos(2**i * p)\n",
    "    return pe\n",
    "\n",
    "\n",
    "def posenc(x, L):\n",
    "  rets = [x]\n",
    "  for i in range(L):\n",
    "    for fn in [torch.sin, torch.cos]:\n",
    "      rets.append(fn(2.**i * x))\n",
    "  return torch.cat(rets, -1)\n",
    "\n",
    "print(\"correct\", posenc(a, 6))\n",
    "print(\"old\", positional_encoding(a, 6 , torch.device(\"cpu\")))"
   ]
  },
  {
   "cell_type": "code",
   "execution_count": null,
   "metadata": {},
   "outputs": [],
   "source": []
  }
 ],
 "metadata": {
  "kernelspec": {
   "display_name": "Python 3",
   "language": "python",
   "name": "python3"
  },
  "language_info": {
   "codemirror_mode": {
    "name": "ipython",
    "version": 3
   },
   "file_extension": ".py",
   "mimetype": "text/x-python",
   "name": "python",
   "nbconvert_exporter": "python",
   "pygments_lexer": "ipython3",
   "version": "3.11.4"
  }
 },
 "nbformat": 4,
 "nbformat_minor": 2
}
